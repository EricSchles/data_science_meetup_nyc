{
 "cells": [
  {
   "cell_type": "markdown",
   "metadata": {},
   "source": [
    "# An Introduction To Exploratory Data Analysis and Hypothesis Testing\n",
    "\n",
    "## EDA (Exploratory Data Analysis)\n",
    "\n",
    "Understanding the shape of the distribution of your data is an imperative to informing hypotheses about your data.  By understanding the various 1 dimensional projections (aka columns) of your dataset, you'll be able to understand what statistical questions to ask which inform your early analysis.\n",
    "\n",
    "The true beginning of any data science project _should_ be a conversation, however it's hard to get what you need without anything to show.  Exploratory data analysis is often the trojan horse to learn more of the domain expertise of your data as well as to get to know the client.\n",
    "\n",
    "They see that you've done \"something\" and you get the opportunity to ask important questions like:\n",
    "\n",
    "* does this sample or this data make sense given what stakeholder expects? \n",
    "* do the various columns mean what you think (based on the column names)?\n",
    "\n",
    "By doing the exploratory data analysis, you can usually get answers to these questions.\n",
    "\n",
    "\n",
    "## Techniques\n",
    "\n",
    "* shape parameters of your distribution\n",
    "    * measures of centrality\n",
    "    * measures of spread\n",
    "* visualizing your dataset\n",
    "    * histogram plotting\n",
    "    * geospatial plotting\n",
    "    * scatter plotting\n",
    "    * timeseries plotting\n",
    "* distributions\n",
    "    * visualizing the normal distribution\n",
    "    * visualizing the exponential distribution\n",
    "    * visualizing the beta distribution\n",
    "    * moment generating functions\n",
    "        * a generalization of centrality\n",
    "        * a generalization of spread\n",
    "\n",
    "## Hypothesis Testing\n",
    "\n",
    "* understanding the null and alternative hypothesis\n",
    "* pvalues and their interpretation\n",
    "* the statistic of a hypothesis test\n",
    "* Example hypothesis tests\n",
    "    * normality tests\n",
    "        * Shapiro-Wilk Test\n",
    "        * D’Agostino’s K^2 Test\n",
    "        * Anderson-Darling Test\n",
    "    * Correlation Tests\n",
    "        * Pearson’s Correlation Coefficient\n",
    "        * Spearman’s Rank Correlation\n",
    "        * Kendall’s Rank Correlation\n",
    "        * Chi-Squared Test\n",
    "    * Parametric Statistical Hypothesis Tests\n",
    "        * Student’s t-test\n",
    "        * Paired Student’s t-test\n",
    "        * Analysis of Variance Test (ANOVA)\n",
    "        * Repeated Measures ANOVA Test\n",
    "    * Nonparametric Statistical Hypothesis Tests\n",
    "        * Mann-Whitney U Test\n",
    "        * Wilcoxon Signed-Rank Test\n",
    "        * Kruskal-Wallis H Test\n",
    "        * Friedman Test\n",
    "        \n",
    "        \n",
    "* a scheme for finding the distribution of your data (Optionally)\n",
    "    * MLE\n",
    "    * Sampling in Python when you need to consider multiple columns\n",
    "    * Analyzing the results of your hypotheses"
   ]
  },
  {
   "cell_type": "markdown",
   "metadata": {},
   "source": [
    "# References:\n",
    "\n",
    "[Statistical Tests Cheatsheet](https://machinelearningmastery.com/statistical-hypothesis-tests-in-python-cheat-sheet/)\n"
   ]
  },
  {
   "cell_type": "code",
   "execution_count": null,
   "metadata": {},
   "outputs": [],
   "source": []
  }
 ],
 "metadata": {
  "kernelspec": {
   "display_name": "Python 3",
   "language": "python",
   "name": "python3"
  },
  "language_info": {
   "codemirror_mode": {
    "name": "ipython",
    "version": 3
   },
   "file_extension": ".py",
   "mimetype": "text/x-python",
   "name": "python",
   "nbconvert_exporter": "python",
   "pygments_lexer": "ipython3",
   "version": "3.7.1"
  }
 },
 "nbformat": 4,
 "nbformat_minor": 2
}
