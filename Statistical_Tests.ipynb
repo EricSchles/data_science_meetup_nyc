{
 "cells": [
  {
   "cell_type": "markdown",
   "metadata": {},
   "source": [
    "# An Introduction To Exploratory Data Analysis and Hypothesis Testing\n",
    "\n",
    "## EDA (Exploratory Data Analysis)\n",
    "\n",
    "Understanding the shape of the distribution of your data is an imperative to informing hypotheses about your data.  By understanding the various 1 dimensional projections (aka columns) of your dataset, you'll be able to understand what statistical questions to ask which inform your early analysis.\n",
    "\n",
    "The true beginning of any data science project _should_ be a conversation, however it's hard to get what you need without anything to show.  Exploratory data analysis is often the trojan horse to learn more of the domain expertise of your data as well as to get to know the client.\n",
    "\n",
    "They see that you've done \"something\" and you get the opportunity to ask important questions like:\n",
    "\n",
    "* does this sample or this data make sense given what stakeholder expects? \n",
    "* do the various columns mean what you think (based on the column names)?\n",
    "\n",
    "By doing the exploratory data analysis, you can usually get answers to these questions.\n",
    "\n",
    "\n",
    "## Techniques\n",
    "\n",
    "* shape parameters of your distribution\n",
    "    * measures of centrality\n",
    "    * measures of spread\n",
    "    * multiple centriods\n",
    "* visualizing your dataset\n",
    "    * histogram plotting\n",
    "    * scatter plotting\n",
    "* distributions\n",
    "    * moment generating functions\n",
    "        * a generalization of centrality\n",
    "        * a generalization of spread\n",
    "    * visualizing the normal distribution\n",
    "    * visualizing the exponential distribution\n",
    "    * visualizing the beta distribution\n",
    "    * Discerning the shape of a distribution in specific\n",
    "        * MLE\n",
    "        * MAP\n",
    "\n",
    "\n",
    "## Hypothesis Testing\n",
    "\n",
    "* understanding the null and alternative hypothesis\n",
    "* pvalues and their interpretation\n",
    "* the statistic of a hypothesis test\n",
    "* the power of a statistical test\n",
    "* Example hypothesis tests\n",
    "    * normality tests\n",
    "        * Shapiro-Wilk Test\n",
    "        * D’Agostino’s K^2 Test\n",
    "        * Anderson-Darling Test\n",
    "    * Correlation Tests\n",
    "        * Pearson’s Correlation Coefficient\n",
    "        * Spearman’s Rank Correlation\n",
    "        * Kendall’s Rank Correlation\n",
    "        * Chi-Squared Test\n",
    "    * Parametric Statistical Hypothesis Tests\n",
    "        * Student’s t-test\n",
    "        * Paired Student’s t-test\n",
    "        * Analysis of Variance Test (ANOVA)\n",
    "        * Repeated Measures ANOVA Test\n",
    "    * Nonparametric Statistical Hypothesis Tests\n",
    "        * Mann-Whitney U Test\n",
    "        * Wilcoxon Signed-Rank Test\n",
    "        * Kruskal-Wallis H Test\n",
    "        * Friedman Test\n",
    "        \n",
    "        \n",
    "* a scheme for finding the distribution of your data (Optionally)\n",
    "    * MLE\n",
    "    * Sampling in Python when you need to consider multiple columns\n",
    "    * Analyzing the results of your hypotheses"
   ]
  },
  {
   "cell_type": "markdown",
   "metadata": {},
   "source": [
    "# References:\n",
    "\n",
    "[Statistical Tests Cheatsheet](https://machinelearningmastery.com/statistical-hypothesis-tests-in-python-cheat-sheet/)\n",
    "\n",
    "[NIST handbook](https://www.itl.nist.gov/div898/handbook/)\n"
   ]
  },
  {
   "cell_type": "markdown",
   "metadata": {},
   "source": [
    "## Shape Parameters\n",
    "\n",
    "In order to get some information about our distribution of data, we usually start with figuring out the center of our dataset.  The central tendency of our dataset has a relationship to the \"expected value\" of the data.  If our data is representative of the underlying population, then the central tendency is a good approxmation of what we can expect of our data over many repeated experiments from our data."
   ]
  },
  {
   "cell_type": "code",
   "execution_count": 5,
   "metadata": {},
   "outputs": [
    {
     "data": {
      "text/plain": [
       "-2.6168993195216026"
      ]
     },
     "execution_count": 5,
     "metadata": {},
     "output_type": "execute_result"
    }
   ],
   "source": [
    "import numpy as np\n",
    "\n",
    "arr = np.random.normal(0, 10, size=10)\n",
    "arr.mean()"
   ]
  },
  {
   "cell_type": "markdown",
   "metadata": {},
   "source": [
    "The above gives us the average of ten repeated sample data points.  If we want the expected value we need to see how the average converges over many repeated samples from the distribution."
   ]
  },
  {
   "cell_type": "code",
   "execution_count": 9,
   "metadata": {},
   "outputs": [
    {
     "data": {
      "text/plain": [
       "0.0016411209873510087"
      ]
     },
     "execution_count": 9,
     "metadata": {},
     "output_type": "execute_result"
    }
   ],
   "source": [
    "arr = np.random.normal(0, 10, size=100000000)\n",
    "arr.mean()"
   ]
  },
  {
   "cell_type": "markdown",
   "metadata": {},
   "source": [
    "Notice that we use the same method to determined the expected value as we use to determine the average.  Unfortunately, the average only works with normally distributed data.  We'll need a broader notion of centrality to capture the expected value of any random variable."
   ]
  },
  {
   "cell_type": "markdown",
   "metadata": {},
   "source": [
    "In order to get more information about our distribution we'll ask about how spread out the data is.  This gives us a sense of the scale of the distribution of the data.  The scale or spread of the data can tell us how to compare a given data point against the entire distribution and how typical a given point is.  If a point is far away from the central tendency or expectation then it is likely atypical for the distribution.  If a point is nearby the center, it is likely much more expected."
   ]
  },
  {
   "cell_type": "code",
   "execution_count": 36,
   "metadata": {},
   "outputs": [
    {
     "data": {
      "text/plain": [
       "9.989376571859928"
      ]
     },
     "execution_count": 36,
     "metadata": {},
     "output_type": "execute_result"
    }
   ],
   "source": [
    "arr = np.random.normal(0, 10, size=100000)\n",
    "arr.std()"
   ]
  },
  {
   "cell_type": "markdown",
   "metadata": {},
   "source": [
    "As we can see standard deviation or spread for this random variable is around 10.  What does this mean?  Well we can start to ask questions of our data, like - how likely is it that we get a data point of 10000, given that our data is normally distributed with a mean of 0 and standard deviation of 10 and 100000 data points?\n",
    "\n",
    "We can start by answering the question visually."
   ]
  },
  {
   "cell_type": "code",
   "execution_count": 41,
   "metadata": {},
   "outputs": [
    {
     "data": {
      "text/plain": [
       "(array([0.0010682, 0.       , 0.       , ..., 0.       , 0.       ,\n",
       "        0.0010682]),\n",
       " array([-51.2438227 , -51.23446116, -51.22509962, ...,  42.35286433,\n",
       "         42.36222587,  42.37158741]),\n",
       " <a list of 10000 Patch objects>)"
      ]
     },
     "execution_count": 41,
     "metadata": {},
     "output_type": "execute_result"
    },
    {
     "data": {
      "image/png": "[encoded data removed]",
      "text/plain": [
       "<Figure size 432x288 with 1 Axes>"
      ]
     },
     "metadata": {
      "needs_background": "light"
     },
     "output_type": "display_data"
    }
   ],
   "source": [
    "import matplotlib.pyplot as plt\n",
    "%matplotlib inline\n",
    "\n",
    "plt.hist(arr, bins=10000, density=True)"
   ]
  },
  {
   "cell_type": "markdown",
   "metadata": {},
   "source": [
    "Given the scale of the distribution - which we can see on the x-axis, clearly the data point of 10000 is well outside what we'd expect for a data point, given this distribution of data.  "
   ]
  },
  {
   "cell_type": "markdown",
   "metadata": {},
   "source": [
    "## Dealing with data that isn't normally distributed\n",
    "\n",
    "What happens when our data isn't perfectly normally distributed?  Here's an example dataset that isn't exactly normally distributed:"
   ]
  },
  {
   "cell_type": "code",
   "execution_count": 127,
   "metadata": {},
   "outputs": [],
   "source": [
    "from scipy.stats import skewnorm\n",
    "\n",
    "skew_magnitude = 4\n",
    "arr = skewnorm.rvs(skew_magnitude, loc=0, scale=1000, size=100000)"
   ]
  },
  {
   "cell_type": "markdown",
   "metadata": {},
   "source": [
    "To generate the above dataset we use a skew normal random variable, one that allows us to pass the third moment of the normal distribution directly.  Because the skew is positive, the tail of our distribution will be on the right."
   ]
  },
  {
   "cell_type": "code",
   "execution_count": 128,
   "metadata": {},
   "outputs": [
    {
     "data": {
      "image/png": "[encoded data removed]",
      "text/plain": [
       "<Figure size 432x288 with 1 Axes>"
      ]
     },
     "metadata": {
      "needs_background": "light"
     },
     "output_type": "display_data"
    }
   ],
   "source": [
    "plt.hist(arr, bins=100, density=True)\n",
    "plt.show()"
   ]
  },
  {
   "cell_type": "markdown",
   "metadata": {},
   "source": [
    "How might we get a measure of center for a dataset that isn't perfectly normal?  The simple average might give us an approximating of the center:"
   ]
  },
  {
   "cell_type": "code",
   "execution_count": 129,
   "metadata": {},
   "outputs": [
    {
     "data": {
      "text/plain": [
       "775.0773690359506"
      ]
     },
     "execution_count": 129,
     "metadata": {},
     "output_type": "execute_result"
    }
   ],
   "source": [
    "arr.mean()"
   ]
  },
  {
   "cell_type": "markdown",
   "metadata": {},
   "source": [
    "Let's compare this with what the median produces:"
   ]
  },
  {
   "cell_type": "code",
   "execution_count": 130,
   "metadata": {},
   "outputs": [
    {
     "data": {
      "text/plain": [
       "673.6524771212421"
      ]
     },
     "execution_count": 130,
     "metadata": {},
     "output_type": "execute_result"
    }
   ],
   "source": [
    "import statistics as st\n",
    "\n",
    "st.median(arr)"
   ]
  },
  {
   "cell_type": "code",
   "execution_count": 131,
   "metadata": {},
   "outputs": [],
   "source": [
    "skew_magnitude = -4\n",
    "arr2 = skewnorm.rvs(skew_magnitude, loc=0, scale=1000, size=100000)"
   ]
  },
  {
   "cell_type": "code",
   "execution_count": 132,
   "metadata": {},
   "outputs": [
    {
     "data": {
      "image/png": "[encoded data removed]",
      "text/plain": [
       "<Figure size 432x288 with 1 Axes>"
      ]
     },
     "metadata": {
      "needs_background": "light"
     },
     "output_type": "display_data"
    }
   ],
   "source": [
    "plt.hist(arr2, bins=100, density=False)\n",
    "plt.show()"
   ]
  },
  {
   "cell_type": "code",
   "execution_count": 133,
   "metadata": {},
   "outputs": [
    {
     "data": {
      "text/plain": [
       "-771.9201454772459"
      ]
     },
     "execution_count": 133,
     "metadata": {},
     "output_type": "execute_result"
    }
   ],
   "source": [
    "arr2.mean()"
   ]
  },
  {
   "cell_type": "code",
   "execution_count": 134,
   "metadata": {},
   "outputs": [
    {
     "data": {
      "text/plain": [
       "-672.9753868254722"
      ]
     },
     "execution_count": 134,
     "metadata": {},
     "output_type": "execute_result"
    }
   ],
   "source": [
    "st.median(arr2)"
   ]
  },
  {
   "cell_type": "markdown",
   "metadata": {},
   "source": [
    "As you can see here, the mean overstates the central tendency of the dataset by quite a bit!  So this tells us when our assumptions are violated we will need to make use of descriptive statistics which are robust to our assumptions needing to be relaxed\n",
    "\n",
    "The major reason that the arithemtic mean overstates the average in this case is because of how it treats large values.  Recall the formula for the arithmetic mean:\n",
    "\n",
    "$$ 1/N \\sum_{i=0}^{i=N} X[i] $$\n",
    "\n",
    "Where X is a list of numbers.\n",
    "\n",
    "Because the sum treats all values equally, if you have one large number the average can shift by a lot.  \n",
    "\n",
    "The way that robust descriptive statistics like the median get around this is by looking at the rank of the data.  How this works:\n",
    "\n",
    "First the data is sorted into ascending order and then different sorted elements are used as alternative measures for centrality and spread.  While not perfectly robust, they do well with a lot of different distributions that are approximately normal but exhibiting some non-normal tendencies either by a non zero skew or a non zero kurtosis."
   ]
  },
  {
   "cell_type": "code",
   "execution_count": 142,
   "metadata": {},
   "outputs": [
    {
     "name": "stdout",
     "output_type": "stream",
     "text": [
      "Median 673.6524771212421\n",
      "Interquartile Range 840.351319347348\n",
      "Mean 775.0773690359506\n",
      "Standard Deviation 633.2153887790821\n"
     ]
    }
   ],
   "source": [
    "def interquartile_range(arr):\n",
    "    q1 = np.percentile(arr, 25)\n",
    "    q3 = np.percentile(arr, 75)\n",
    "    return q3 - q1\n",
    "\n",
    "print(\"Median\", np.percentile(arr, 50))\n",
    "print(\"Interquartile Range\", interquartile_range(arr))\n",
    "print(\"Mean\", arr.mean())\n",
    "print(\"Standard Deviation\", arr.std())"
   ]
  },
  {
   "cell_type": "markdown",
   "metadata": {},
   "source": [
    "As you can see, the above robust statistics capture the same information - the center and the spread of the distribution, except because these are rank order statistics, they won't capture any information from the outliers.  This is because they only look at sorted order, these statistics are unaware of bias via outliers.\n",
    "\n",
    "Another important robust descriptive statistic is the [trimean](https://en.wikipedia.org/wiki/Trimean)."
   ]
  },
  {
   "cell_type": "code",
   "execution_count": 144,
   "metadata": {},
   "outputs": [
    {
     "name": "stdout",
     "output_type": "stream",
     "text": [
      "Trimean 701.7110944368526\n"
     ]
    }
   ],
   "source": [
    "def trimean(arr):\n",
    "    q1 = np.percentile(arr, 25)\n",
    "    q3 = np.percentile(arr, 75)\n",
    "    median = np.percentile(arr, 50)\n",
    "    return (q1 + 2*median + q3)/4\n",
    "\n",
    "print(\"Trimean\", trimean(arr))"
   ]
  },
  {
   "cell_type": "markdown",
   "metadata": {},
   "source": [
    "\"An advantage of the trimean as a measure of the center (of a distribution) is that it combines the median's emphasis on center values with the midhinge's attention to the extremes.\"\n",
    "\n",
    "— Herbert F. Weisberg, Central Tendency and Variability\n",
    "\n",
    "Before we leave our discussion of central tendency, it is possible that our data will not comfortably conform to one central tendency, it may be the case that multiple central tendencies are present, for this we will introduce the k means algorithm"
   ]
  },
  {
   "cell_type": "code",
   "execution_count": 168,
   "metadata": {},
   "outputs": [
    {
     "data": {
      "text/plain": [
       "array([[ 99.82624339],\n",
       "       [799.60974984]])"
      ]
     },
     "execution_count": 168,
     "metadata": {},
     "output_type": "execute_result"
    }
   ],
   "source": [
    "from sklearn.cluster import KMeans\n",
    "\n",
    "arr1 = np.random.normal(100, 50, size=10000)\n",
    "arr2 = np.random.normal(800, 50, size=10000)\n",
    "multi_center_dist = np.concatenate([arr1, arr2])\n",
    "\n",
    "means = KMeans(n_clusters=2, \n",
    "               random_state=0, \n",
    "               max_iter=1000,\n",
    "               n_init=100,\n",
    "               tol=0.00001,\n",
    "               algorithm=\"full\").fit(multi_center_dist.reshape(-1, 1))\n",
    "means.cluster_centers_"
   ]
  },
  {
   "cell_type": "code",
   "execution_count": 169,
   "metadata": {},
   "outputs": [
    {
     "data": {
      "image/png": "[encoded data removed]",
      "text/plain": [
       "<Figure size 432x288 with 1 Axes>"
      ]
     },
     "metadata": {
      "needs_background": "light"
     },
     "output_type": "display_data"
    }
   ],
   "source": [
    "plt.hist(multi_center_dist, bins=100)\n",
    "plt.show()"
   ]
  },
  {
   "cell_type": "code",
   "execution_count": 176,
   "metadata": {},
   "outputs": [
    {
     "data": {
      "text/plain": [
       "array([[163.9252768 ],\n",
       "       [835.22386134]])"
      ]
     },
     "execution_count": 176,
     "metadata": {},
     "output_type": "execute_result"
    }
   ],
   "source": [
    "from sklearn.cluster import KMeans\n",
    "\n",
    "arr1 = skewnorm.rvs(-2, loc=200, scale=50, size=1000)\n",
    "arr2 = skewnorm.rvs(2, loc=800, scale=50, size=1000)\n",
    "multi_center_dist = np.concatenate([arr1, arr2])\n",
    "\n",
    "means = KMeans(n_clusters=2, \n",
    "               random_state=0, \n",
    "               max_iter=1000,\n",
    "               n_init=100,\n",
    "               tol=0.00001,\n",
    "               algorithm=\"full\").fit(multi_center_dist.reshape(-1, 1))\n",
    "means.cluster_centers_"
   ]
  },
  {
   "cell_type": "code",
   "execution_count": 177,
   "metadata": {},
   "outputs": [
    {
     "data": {
      "image/png": "[encoded data removed]",
      "text/plain": [
       "<Figure size 432x288 with 1 Axes>"
      ]
     },
     "metadata": {
      "needs_background": "light"
     },
     "output_type": "display_data"
    }
   ],
   "source": [
    "plt.hist(multi_center_dist, bins=100)\n",
    "plt.show()"
   ]
  },
  {
   "cell_type": "markdown",
   "metadata": {},
   "source": [
    "As you can see, the K-Means algorithm captures both of the centers of our distribution.  Additionally, KMeans can generalize to $R^{n}$ space, meaning we can capture a sense of a higher dimensional centrality directly, rather than looking at the marginal centrality of different aspects of our dataset. "
   ]
  },
  {
   "cell_type": "markdown",
   "metadata": {},
   "source": [
    "## Dealing with 2 Dimensional Data\n",
    "\n",
    "Thus far we've dealt primarily with 1 dimensional data, so the histogram was simply the right choice.  What happens when we go multi-dimensional?\n",
    "\n",
    "For this we will need a number of techniques, however the simplest ones involve just visualizing the data.  For this we will need some new visualizations.  In this case we will turn to scatter plots first:"
   ]
  },
  {
   "cell_type": "code",
   "execution_count": 182,
   "metadata": {},
   "outputs": [
    {
     "name": "stdout",
     "output_type": "stream",
     "text": [
      ".. _boston_dataset:\n",
      "\n",
      "Boston house prices dataset\n",
      "---------------------------\n",
      "\n",
      "**Data Set Characteristics:**  \n",
      "\n",
      "    :Number of Instances: 506 \n",
      "\n",
      "    :Number of Attributes: 13 numeric/categorical predictive. Median Value (attribute 14) is usually the target.\n",
      "\n",
      "    :Attribute Information (in order):\n",
      "        - CRIM     per capita crime rate by town\n",
      "        - ZN       proportion of residential land zoned for lots over 25,000 sq.ft.\n",
      "        - INDUS    proportion of non-retail business acres per town\n",
      "        - CHAS     Charles River dummy variable (= 1 if tract bounds river; 0 otherwise)\n",
      "        - NOX      nitric oxides concentration (parts per 10 million)\n",
      "        - RM       average number of rooms per dwelling\n",
      "        - AGE      proportion of owner-occupied units built prior to 1940\n",
      "        - DIS      weighted distances to five Boston employment centres\n",
      "        - RAD      index of accessibility to radial highways\n",
      "        - TAX      full-value property-tax rate per $10,000\n",
      "        - PTRATIO  pupil-teacher ratio by town\n",
      "        - B        1000(Bk - 0.63)^2 where Bk is the proportion of blacks by town\n",
      "        - LSTAT    % lower status of the population\n",
      "        - MEDV     Median value of owner-occupied homes in $1000's\n",
      "\n",
      "    :Missing Attribute Values: None\n",
      "\n",
      "    :Creator: Harrison, D. and Rubinfeld, D.L.\n",
      "\n",
      "This is a copy of UCI ML housing dataset.\n",
      "https://archive.ics.uci.edu/ml/machine-learning-databases/housing/\n",
      "\n",
      "\n",
      "This dataset was taken from the StatLib library which is maintained at Carnegie Mellon University.\n",
      "\n",
      "The Boston house-price data of Harrison, D. and Rubinfeld, D.L. 'Hedonic\n",
      "prices and the demand for clean air', J. Environ. Economics & Management,\n",
      "vol.5, 81-102, 1978.   Used in Belsley, Kuh & Welsch, 'Regression diagnostics\n",
      "...', Wiley, 1980.   N.B. Various transformations are used in the table on\n",
      "pages 244-261 of the latter.\n",
      "\n",
      "The Boston house-price data has been used in many machine learning papers that address regression\n",
      "problems.   \n",
      "     \n",
      ".. topic:: References\n",
      "\n",
      "   - Belsley, Kuh & Welsch, 'Regression diagnostics: Identifying Influential Data and Sources of Collinearity', Wiley, 1980. 244-261.\n",
      "   - Quinlan,R. (1993). Combining Instance-Based and Model-Based Learning. In Proceedings on the Tenth International Conference of Machine Learning, 236-243, University of Massachusetts, Amherst. Morgan Kaufmann.\n",
      "\n"
     ]
    }
   ],
   "source": [
    "from sklearn import datasets\n",
    "\n",
    "boston = datasets.load_boston()\n",
    "print(boston[\"DESCR\"])"
   ]
  },
  {
   "cell_type": "code",
   "execution_count": 199,
   "metadata": {},
   "outputs": [
    {
     "name": "stderr",
     "output_type": "stream",
     "text": [
      "/usr/local/lib/python3.7/site-packages/ipykernel_launcher.py:10: FutureWarning: Method .as_matrix will be removed in a future version. Use .values instead.\n",
      "  # Remove the CWD from sys.path while we load stuff.\n"
     ]
    },
    {
     "data": {
      "text/plain": [
       "StandardScaler(copy=True, with_mean=True, with_std=True)"
      ]
     },
     "execution_count": 199,
     "metadata": {},
     "output_type": "execute_result"
    }
   ],
   "source": [
    "import pandas as pd\n",
    "\n",
    "columns = [\"CRIM\", \"ZN\", \"INDUS\", \n",
    "          \"CHAS\", \"NOX\", \"RM\", \n",
    "          \"AGE\", \"DIS\", \"RAD\", \n",
    "          \"TAX\", \"PTRATIO\", \"B\", \n",
    "          \"LSTAT\"]\n",
    "df = pd.DataFrame(data=boston.data[:,:], columns=columns) "
   ]
  },
  {
   "cell_type": "code",
   "execution_count": 212,
   "metadata": {},
   "outputs": [
    {
     "data": {
      "text/plain": [
       "<matplotlib.collections.PathCollection at 0x111c8a630>"
      ]
     },
     "execution_count": 212,
     "metadata": {},
     "output_type": "execute_result"
    },
    {
     "data": {
      "image/png": "[encoded data removed]",
      "text/plain": [
       "<Figure size 432x288 with 1 Axes>"
      ]
     },
     "metadata": {
      "needs_background": "light"
     },
     "output_type": "display_data"
    }
   ],
   "source": [
    "X = df[\"AGE\"].values\n",
    "Y = df[\"RM\"].values\n",
    "\n",
    "plt.scatter(X, Y)"
   ]
  },
  {
   "cell_type": "markdown",
   "metadata": {},
   "source": [
    "From the above data we can actually see something interesting!  As the proportion of houses built before 1940 increases, the number of rooms spreads out significantly.  This means we can say, older houses likely had more rooms possibly because family size was larger and more varied.  As a result when family size stablized around 2 children per household, the number of rooms may have stablized as well.  Also, there is likely a poverty effect here, as American workers made more money, it probably meant fewer homes with a small number of rooms.\n",
    "\n",
    "Of course, the above is all just guess work, but there is certainly a pattern we can discern from the above picture - the number of rooms in older homes is more varied than newer homes."
   ]
  },
  {
   "cell_type": "code",
   "execution_count": 216,
   "metadata": {},
   "outputs": [
    {
     "data": {
      "image/png": "[encoded data removed]",
      "text/plain": [
       "<Figure size 432x432 with 3 Axes>"
      ]
     },
     "metadata": {},
     "output_type": "display_data"
    }
   ],
   "source": [
    "import seaborn as sns\n",
    "sns.set(style=\"white\", color_codes=True)\n",
    "sns.jointplot(x=\"AGE\", y=\"RM\", data=df)\n",
    "plt.show()"
   ]
  },
  {
   "cell_type": "markdown",
   "metadata": {},
   "source": [
    "Interestingly, we get a very different picture by looking at the joint plot.  It appears as though most of the homes total that are being shown are in the 90-100% range of being built before 1940.  What this suggests is that the housing stock simply degrades slowly and that there are far fewer new houses than old, which is why the spread of room is so much higher if we account for areas with mostly older homes.\n",
    "\n",
    "We can easily add a regression line which looks at the distribution of marginal densities:"
   ]
  },
  {
   "cell_type": "code",
   "execution_count": 217,
   "metadata": {},
   "outputs": [
    {
     "data": {
      "image/png": "[encoded data removed]",
      "text/plain": [
       "<Figure size 432x432 with 3 Axes>"
      ]
     },
     "metadata": {},
     "output_type": "display_data"
    }
   ],
   "source": [
    "sns.jointplot(x=\"AGE\", y=\"RM\", data=df, kind=\"reg\")\n",
    "plt.show()"
   ]
  },
  {
   "cell_type": "markdown",
   "metadata": {},
   "source": [
    "Notice that this visual \"model\" of our data merely shows us how the data is distributed and where the majority of the data is.  By fitting a line through the data, we can see the slight negative relationship between AGE and number of rooms clearly spelled out.  \n",
    "\n",
    "Of course, we aren't talking in detail about linear regression here.  So this is merely to show the power of good visualization."
   ]
  },
  {
   "cell_type": "markdown",
   "metadata": {},
   "source": [
    "## Finding The Central Tendency and Spread In General\n",
    "\n",
    "Thus far we have looked at mostly normally distributed data.  Finding the center and spread of the data was relatively straight forward, however that isn't always the case.\n",
    "\n",
    "The reason it was easy to find the center and spread is because we made an assumption about the shape of the underlying data, namely that it was _normally_ distributed.  What happens if we need to relax that assumption?  How can we talk about centrality and spread in the general setting of any distribution of data.\n",
    "\n",
    "For this we'll need a more general notion of centrality and spread.  One way to attack this is to assume some underlying function that approximately generates your data and then to come up with another function which acts on this distribution generating function to recover the shape parameters of the distribution.  The first two of these shape parameters are the central tendency and the spread for the distribution.  \n",
    "\n",
    "The name given to the function that acts on a distribution to recover its shape parameters is called the moment generating function.  For smooth, continuous distribution functions, the moment generating function can generate many moments, by differentiating the distribution function.\n",
    "\n",
    "While the moment generating function does not exist for all distributions, it exists for many, allowing us to extend our discussion of descriptive statistics to many cases, while abstracting away the details of _how_ we calcuate measures of centrality and spread to, _how_ do we interpret our distribution based on it's shape parameters?\n",
    "\n",
    "The technical aspects of how to derive said moment generating functions are likely unimportant.  What is interest, is a few of the collaries:\n",
    "\n",
    "* no two distributions of data calculate the central tendency or spread the same way\n",
    "* there are potentially many shape parameters associated with each distribution of data that give us tons of information about the data."
   ]
  },
  {
   "cell_type": "markdown",
   "metadata": {},
   "source": [
    "## Looking at some specific examples\n",
    "\n",
    "* Normal Distribution\n",
    "    * Central tendency: \n",
    "    \n",
    "    $$ 1/n \\sum_{i=0}^{i=n} x_{i} $$ \n",
    "    \n",
    "    * Spread: \n",
    "    \n",
    "    $$ 1/n \\sum_{i=0}^{i=n}(x_{i} - \\mu)^{2} $$\n",
    "    \n",
    "* Exponential Distribution\n",
    "\n",
    "    * Central tendency:\n",
    "        \n",
    "       $$ \\lambda^{-1} $$\n",
    "    \n",
    "    * Spread:\n",
    "    \n",
    "       $$ \\lambda^{-2} $$\n",
    "       \n",
    "* Beta Distribution\n",
    "\n",
    "    * Central tendency:\n",
    "    \n",
    "       $$ \\dfrac{\\alpha}{\\alpha + \\beta} $$\n",
    "    \n",
    "    * Spread: \n",
    "\n",
    "       $$ \\dfrac{\\alpha\\beta}{(\\alpha + \\beta)^{2}(\\alpha + \\beta + 1)} $$"
   ]
  },
  {
   "cell_type": "markdown",
   "metadata": {},
   "source": [
    "What do each of these formulas have in common for each calculation of center and spread?  The answer: Nothing!  They couldn't be more different.  And because of that, we know with some level of certainty that it is an imperative we know what data distribution we are dealing with, if we want to say anything meaningful about our data.\n",
    "\n",
    "So how do we account for this in our modeling?  By verifying the distribution that our data comes from.  We'll see how to do this a little later on, but for now let's assume that we simply know by visual inspection what our data looks like.  In order to do this, let's look at pictures of the three distributions listed above:"
   ]
  },
  {
   "cell_type": "code",
   "execution_count": 344,
   "metadata": {},
   "outputs": [],
   "source": [
    "normal_dist = np.random.normal(0, 1, size=10000)\n",
    "exponential_dist = np.random.exponential(0.5, size=10000)\n",
    "beta_dist = np.random.beta(1, 3.25, size=10000)"
   ]
  },
  {
   "cell_type": "code",
   "execution_count": 345,
   "metadata": {},
   "outputs": [
    {
     "data": {
      "text/plain": [
       "<matplotlib.axes._subplots.AxesSubplot at 0x118ac7d30>"
      ]
     },
     "execution_count": 345,
     "metadata": {},
     "output_type": "execute_result"
    },
    {
     "data": {
      "image/png": "[encoded data removed]",
      "text/plain": [
       "<Figure size 504x504 with 4 Axes>"
      ]
     },
     "metadata": {},
     "output_type": "display_data"
    }
   ],
   "source": [
    "f, axes = plt.subplots(2, 2, figsize=(7, 7), sharex=True)\n",
    "sns.distplot( normal_dist , color=\"green\", ax=axes[0, 0])\n",
    "sns.distplot( exponential_dist , color=\"blue\", ax=axes[1, 0])\n",
    "sns.distplot( beta_dist , color=\"red\", ax=axes[0, 1])"
   ]
  },
  {
   "cell_type": "code",
   "execution_count": 346,
   "metadata": {},
   "outputs": [
    {
     "data": {
      "image/png": "[encoded data removed]",
      "text/plain": [
       "<Figure size 432x288 with 1 Axes>"
      ]
     },
     "metadata": {},
     "output_type": "display_data"
    }
   ],
   "source": [
    "sns.distplot( normal_dist , color=\"green\")\n",
    "sns.distplot( exponential_dist , color=\"blue\")\n",
    "sns.distplot( beta_dist , color=\"red\")\n",
    "\n",
    "plt.show()"
   ]
  },
  {
   "cell_type": "markdown",
   "metadata": {},
   "source": [
    "Note the distinctive shapes for each distribution - \n",
    "\n",
    "The normal distribution, shown in green, is fairly spreadout and data is evenly distributed with a bulge at the center.\n",
    "\n",
    "The beta distribution, shown in red has the highest peak and the smallest spread.  This makes beta distributions ideal for bayesian inference, because the majority of the data falls in a small area.  It's important to note, as the shape parameters for the distribution change, the beta distribution can actually take on a lot of different shapes.\n",
    "\n",
    "Finally, in blue, the exponential distribution falls inbetween the shape of the beta and normal distribution, some of it's data hovers in one area, but then the other half has a long tail, which more closely resembles the density of the normal distribution in spread.\n",
    "\n",
    "In fact, as the exponential distribution heads towards a shape parameter of 2, it closes resembles at standard normal variable (with mean 0 and variance 1):"
   ]
  },
  {
   "cell_type": "code",
   "execution_count": 385,
   "metadata": {},
   "outputs": [
    {
     "data": {
      "image/png": "[encoded data removed]",
      "text/plain": [
       "<Figure size 432x288 with 1 Axes>"
      ]
     },
     "metadata": {},
     "output_type": "display_data"
    }
   ],
   "source": [
    "normal_dist = np.random.normal(0, 1, size=10000)\n",
    "exponential_dist = np.random.exponential(1.9, size=10000)\n",
    "sns.distplot( exponential_dist , color=\"blue\")\n",
    "sns.distplot( normal_dist , color=\"green\")\n",
    "\n",
    "plt.show()"
   ]
  },
  {
   "cell_type": "markdown",
   "metadata": {},
   "source": [
    "Before we leave the topic of distributions, let's discuss a powerful techniques for finding the shape parameters of sample data that we believe belongs to the population distribution (spoiler: it also has many other use cases).\n",
    "\n",
    "For example assume that we only have a sample of 100 students, that we believe are normally distributed and we would like to figure out the shape parameters for the population.  We can use a technique called maximum likelihood estimation to discern these parameters.  MLE is used for a variety of different learning tasks, including ordinary least squares amongst others.  For now, we will concern ourselves with just using it to fit the shape parameters of a population distribution given a sample:"
   ]
  },
  {
   "cell_type": "code",
   "execution_count": 394,
   "metadata": {},
   "outputs": [],
   "source": [
    "students_tests = np.random.normal(70, 15, size=110)\n",
    "students_tests = students_tests[students_tests < 100]\n",
    "students_tests = students_tests[np.random.randint(0, 100, size=100)]"
   ]
  },
  {
   "cell_type": "code",
   "execution_count": 401,
   "metadata": {},
   "outputs": [
    {
     "data": {
      "image/png": "[encoded data removed]",
      "text/latex": [
       "$$\\left ( 67.46590022788803, \\quad 15.42254444177607\\right )$$"
      ],
      "text/plain": [
       "(67.46590022788803, 15.42254444177607)"
      ]
     },
     "execution_count": 401,
     "metadata": {},
     "output_type": "execute_result"
    }
   ],
   "source": [
    "from scipy import stats\n",
    "\n",
    "stats.norm.fit(students_tests)"
   ]
  },
  {
   "cell_type": "markdown",
   "metadata": {},
   "source": [
    "As you can see, we recover the most likely population shape parameters from the sample of 100 students.  "
   ]
  },
  {
   "cell_type": "code",
   "execution_count": 399,
   "metadata": {},
   "outputs": [],
   "source": [
    "from scipy import stats\n",
    "import numpy as np\n",
    "\n",
    "\n",
    "def distribution_analysis(data, distributions):\n",
    "    results = {}\n",
    "    results[\"normal_test\"] = stats.normaltest(data)\n",
    "    for name, distribution in distributions:\n",
    "        # MLE approximation for shape parameters \n",
    "        \n",
    "        shape_parameters = distribution.fit(data)\n",
    "        shape_parameters = list(shape_parameters)\n",
    "        if name == 'erlang':\n",
    "            shape_parameters[0] = int(shape_parameters[0])\n",
    "            shape_parameters[1] = int(shape_parameters[1])\n",
    "        if name == 'gausshyper':\n",
    "            simulation = distribution.rvs(\n",
    "                shape_parameters[0],\n",
    "                shape_parameters[1],\n",
    "                shape_parameters[2],\n",
    "                shape_parameters[3],\n",
    "                size=len(data))\n",
    "        else:\n",
    "            simulation = distribution.rvs(shape_parameters[0], shape_parameters[1], size=len(data))\n",
    "\n",
    "        # statistical tests for distribution similarity\n",
    "        results[name+\"_pearson\"] = stats.pearsonr(data, simulation)\n",
    "        results[name+\"_spearman\"] = stats.spearmanr(data, simulation)\n",
    "        results[name+\"_mannwhitneyU\"] = stats.mannwhitneyu(data, simulation, alternative=\"two-sided\")\n",
    "        results[name+\"_wilcoxon\"] = stats.wilcoxon(data, simulation)\n",
    "        results[name+\"_ks_2sample\"] = stats.ks_2samp(data, simulation)\n",
    "    return results\n",
    "\n",
    "distributions = [\n",
    "      ('beta', stats.beta),\n",
    "      ('cauchy', stats.cauchy),\n",
    "      ('chi', stats.chi),\n",
    "      ('chi2', stats.chi2),\n",
    "      ('dweibull', stats.dweibull),\n",
    "      ('erlang', stats.erlang),\n",
    "      ('expon', stats.expon),\n",
    "      ('fisk', stats.fisk),\n",
    "      ('foldcauchy', stats.foldcauchy),\n",
    "      ('foldnorm', stats.foldnorm),\n",
    "      ('gamma', stats.gamma),\n",
    "      ('gausshyper', stats.gausshyper),\n",
    "      ('invgauss', stats.invgauss),\n",
    "      ('levy', stats.levy),\n",
    "      ('maxwell', stats.maxwell),\n",
    "  ]"
   ]
  },
  {
   "cell_type": "code",
   "execution_count": 400,
   "metadata": {},
   "outputs": [
    {
     "data": {
      "text/plain": [
       "['nakagami',\n",
       " 'nbinom',\n",
       " 'ncf',\n",
       " 'nct',\n",
       " 'ncx2',\n",
       " 'norm',\n",
       " 'normaltest',\n",
       " 'norminvgauss']"
      ]
     },
     "execution_count": 400,
     "metadata": {},
     "output_type": "execute_result"
    }
   ],
   "source": [
    "[elem for elem in dir(stats) if elem.lower().startswith(\"n\")]"
   ]
  },
  {
   "cell_type": "code",
   "execution_count": null,
   "metadata": {},
   "outputs": [],
   "source": []
  }
 ],
 "metadata": {
  "kernelspec": {
   "display_name": "Python 3",
   "language": "python",
   "name": "python3"
  },
  "language_info": {
   "codemirror_mode": {
    "name": "ipython",
    "version": 3
   },
   "file_extension": ".py",
   "mimetype": "text/x-python",
   "name": "python",
   "nbconvert_exporter": "python",
   "pygments_lexer": "ipython3",
   "version": "3.7.1"
  }
 },
 "nbformat": 4,
 "nbformat_minor": 2
}
