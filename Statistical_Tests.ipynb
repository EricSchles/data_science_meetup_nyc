{
 "cells": [
  {
   "cell_type": "markdown",
   "metadata": {},
   "source": [
    "# An Introduction To Exploratory Data Analysis and Hypothesis Testing\n",
    "\n",
    "## EDA (Exploratory Data Analysis)\n",
    "\n",
    "Understanding the shape of the distribution of your data is an imperative to informing hypotheses about your data.  By understanding the various 1 dimensional projections (aka columns) of your dataset, you'll be able to understand what statistical questions to ask which inform your early analysis.\n",
    "\n",
    "The true beginning of any data science project _should_ be a conversation, however it's hard to get what you need without anything to show.  Exploratory data analysis is often the trojan horse to learn more of the domain expertise of your data as well as to get to know the client.\n",
    "\n",
    "They see that you've done \"something\" and you get the opportunity to ask important questions like:\n",
    "\n",
    "* does this sample or this data make sense given what stakeholder expects? \n",
    "* do the various columns mean what you think (based on the column names)?\n",
    "\n",
    "By doing the exploratory data analysis, you can usually get answers to these questions.\n",
    "\n",
    "\n",
    "## Techniques\n",
    "\n",
    "* shape parameters of your distribution\n",
    "    * measures of centrality\n",
    "    * measures of spread\n",
    "    * multiple centriods\n",
    "* visualizing your dataset\n",
    "    * histogram plotting\n",
    "    * geospatial plotting\n",
    "    * scatter plotting\n",
    "    * timeseries plotting\n",
    "* distributions\n",
    "    * visualizing the normal distribution\n",
    "    * visualizing the exponential distribution\n",
    "    * visualizing the beta distribution\n",
    "    * moment generating functions\n",
    "        * a generalization of centrality\n",
    "        * a generalization of spread\n",
    "\n",
    "## Hypothesis Testing\n",
    "\n",
    "* understanding the null and alternative hypothesis\n",
    "* pvalues and their interpretation\n",
    "* the statistic of a hypothesis test\n",
    "* the power of a statistical test\n",
    "* Example hypothesis tests\n",
    "    * normality tests\n",
    "        * Shapiro-Wilk Test\n",
    "        * D’Agostino’s K^2 Test\n",
    "        * Anderson-Darling Test\n",
    "    * Correlation Tests\n",
    "        * Pearson’s Correlation Coefficient\n",
    "        * Spearman’s Rank Correlation\n",
    "        * Kendall’s Rank Correlation\n",
    "        * Chi-Squared Test\n",
    "    * Parametric Statistical Hypothesis Tests\n",
    "        * Student’s t-test\n",
    "        * Paired Student’s t-test\n",
    "        * Analysis of Variance Test (ANOVA)\n",
    "        * Repeated Measures ANOVA Test\n",
    "    * Nonparametric Statistical Hypothesis Tests\n",
    "        * Mann-Whitney U Test\n",
    "        * Wilcoxon Signed-Rank Test\n",
    "        * Kruskal-Wallis H Test\n",
    "        * Friedman Test\n",
    "        \n",
    "        \n",
    "* a scheme for finding the distribution of your data (Optionally)\n",
    "    * MLE\n",
    "    * Sampling in Python when you need to consider multiple columns\n",
    "    * Analyzing the results of your hypotheses"
   ]
  },
  {
   "cell_type": "markdown",
   "metadata": {},
   "source": [
    "# References:\n",
    "\n",
    "[Statistical Tests Cheatsheet](https://machinelearningmastery.com/statistical-hypothesis-tests-in-python-cheat-sheet/)\n",
    "\n",
    "[NIST handbook](https://www.itl.nist.gov/div898/handbook/)\n"
   ]
  },
  {
   "cell_type": "markdown",
   "metadata": {},
   "source": [
    "## Shape Parameters\n",
    "\n",
    "In order to get some information about our distribution of data, we usually start with figuring out the center of our dataset.  The central tendency of our dataset has a relationship to the \"expected value\" of the data.  If our data is representative of the underlying population, then the central tendency is a good approxmation of what we can expect of our data over many repeated experiments from our data."
   ]
  },
  {
   "cell_type": "code",
   "execution_count": 5,
   "metadata": {},
   "outputs": [
    {
     "data": {
      "text/plain": [
       "-2.6168993195216026"
      ]
     },
     "execution_count": 5,
     "metadata": {},
     "output_type": "execute_result"
    }
   ],
   "source": [
    "import numpy as np\n",
    "\n",
    "arr = np.random.normal(0, 10, size=10)\n",
    "arr.mean()"
   ]
  },
  {
   "cell_type": "markdown",
   "metadata": {},
   "source": [
    "The above gives us the average of ten repeated sample data points.  If we want the expected value we need to see how the average converges over many repeated samples from the distribution."
   ]
  },
  {
   "cell_type": "code",
   "execution_count": 9,
   "metadata": {},
   "outputs": [
    {
     "data": {
      "text/plain": [
       "0.0016411209873510087"
      ]
     },
     "execution_count": 9,
     "metadata": {},
     "output_type": "execute_result"
    }
   ],
   "source": [
    "arr = np.random.normal(0, 10, size=100000000)\n",
    "arr.mean()"
   ]
  },
  {
   "cell_type": "markdown",
   "metadata": {},
   "source": [
    "Notice that we use the same method to determined the expected value as we use to determine the average.  Unfortunately, the average only works with normally distributed data.  We'll need a broader notion of centrality to capture the expected value of any random variable."
   ]
  },
  {
   "cell_type": "markdown",
   "metadata": {},
   "source": [
    "In order to get more information about our distribution we'll ask about how spread out the data is.  This gives us a sense of the scale of the distribution of the data.  The scale or spread of the data can tell us how to compare a given data point against the entire distribution and how typical a given point is.  If a point is far away from the central tendency or expectation then it is likely atypical for the distribution.  If a point is nearby the center, it is likely much more expected."
   ]
  },
  {
   "cell_type": "code",
   "execution_count": 36,
   "metadata": {},
   "outputs": [
    {
     "data": {
      "text/plain": [
       "9.989376571859928"
      ]
     },
     "execution_count": 36,
     "metadata": {},
     "output_type": "execute_result"
    }
   ],
   "source": [
    "arr = np.random.normal(0, 10, size=100000)\n",
    "arr.std()"
   ]
  },
  {
   "cell_type": "markdown",
   "metadata": {},
   "source": [
    "As we can see standard deviation or spread for this random variable is around 10.  What does this mean?  Well we can start to ask questions of our data, like - how likely is it that we get a data point of 10000, given that our data is normally distributed with a mean of 0 and standard deviation of 10 and 100000 data points?\n",
    "\n",
    "We can start by answering the question visually."
   ]
  },
  {
   "cell_type": "code",
   "execution_count": 41,
   "metadata": {},
   "outputs": [
    {
     "data": {
      "text/plain": [
       "(array([0.0010682, 0.       , 0.       , ..., 0.       , 0.       ,\n",
       "        0.0010682]),\n",
       " array([-51.2438227 , -51.23446116, -51.22509962, ...,  42.35286433,\n",
       "         42.36222587,  42.37158741]),\n",
       " <a list of 10000 Patch objects>)"
      ]
     },
     "execution_count": 41,
     "metadata": {},
     "output_type": "execute_result"
    },
    {
     "data": {
      "image/png": "[encoded data removed]",
      "text/plain": [
       "<Figure size 432x288 with 1 Axes>"
      ]
     },
     "metadata": {
      "needs_background": "light"
     },
     "output_type": "display_data"
    }
   ],
   "source": [
    "import matplotlib.pyplot as plt\n",
    "%matplotlib inline\n",
    "\n",
    "plt.hist(arr, bins=10000, density=True)"
   ]
  },
  {
   "cell_type": "markdown",
   "metadata": {},
   "source": [
    "Given the scale of the distribution - which we can see on the x-axis, clearly the data point of 10000 is well outside what we'd expect for a data point, given this distribution of data.  "
   ]
  },
  {
   "cell_type": "markdown",
   "metadata": {},
   "source": [
    "## Dealing with data that isn't normally distributed\n",
    "\n",
    "What happens when our data isn't perfectly normally distributed?  Here's an example dataset that isn't exactly normally distributed:"
   ]
  },
  {
   "cell_type": "code",
   "execution_count": 127,
   "metadata": {},
   "outputs": [],
   "source": [
    "from scipy.stats import skewnorm\n",
    "\n",
    "skew_magnitude = 4\n",
    "arr = skewnorm.rvs(skew_magnitude, loc=0, scale=1000, size=100000)"
   ]
  },
  {
   "cell_type": "markdown",
   "metadata": {},
   "source": [
    "To generate the above dataset we use a skew normal random variable, one that allows us to pass the third moment of the normal distribution directly.  Because the skew is positive, the tail of our distribution will be on the right."
   ]
  },
  {
   "cell_type": "code",
   "execution_count": 128,
   "metadata": {},
   "outputs": [
    {
     "data": {
      "image/png": "[encoded data removed]",
      "text/plain": [
       "<Figure size 432x288 with 1 Axes>"
      ]
     },
     "metadata": {
      "needs_background": "light"
     },
     "output_type": "display_data"
    }
   ],
   "source": [
    "plt.hist(arr, bins=100, density=True)\n",
    "plt.show()"
   ]
  },
  {
   "cell_type": "markdown",
   "metadata": {},
   "source": [
    "How might we get a measure of center for a dataset that isn't perfectly normal?  The simple average might give us an approximating of the center:"
   ]
  },
  {
   "cell_type": "code",
   "execution_count": 129,
   "metadata": {},
   "outputs": [
    {
     "data": {
      "text/plain": [
       "775.0773690359506"
      ]
     },
     "execution_count": 129,
     "metadata": {},
     "output_type": "execute_result"
    }
   ],
   "source": [
    "arr.mean()"
   ]
  },
  {
   "cell_type": "markdown",
   "metadata": {},
   "source": [
    "Let's compare this with what the median produces:"
   ]
  },
  {
   "cell_type": "code",
   "execution_count": 130,
   "metadata": {},
   "outputs": [
    {
     "data": {
      "text/plain": [
       "673.6524771212421"
      ]
     },
     "execution_count": 130,
     "metadata": {},
     "output_type": "execute_result"
    }
   ],
   "source": [
    "import statistics as st\n",
    "\n",
    "st.median(arr)"
   ]
  },
  {
   "cell_type": "code",
   "execution_count": 131,
   "metadata": {},
   "outputs": [],
   "source": [
    "skew_magnitude = -4\n",
    "arr2 = skewnorm.rvs(skew_magnitude, loc=0, scale=1000, size=100000)"
   ]
  },
  {
   "cell_type": "code",
   "execution_count": 132,
   "metadata": {},
   "outputs": [
    {
     "data": {
      "image/png": "[encoded data removed]",
      "text/plain": [
       "<Figure size 432x288 with 1 Axes>"
      ]
     },
     "metadata": {
      "needs_background": "light"
     },
     "output_type": "display_data"
    }
   ],
   "source": [
    "plt.hist(arr2, bins=100, density=False)\n",
    "plt.show()"
   ]
  },
  {
   "cell_type": "code",
   "execution_count": 133,
   "metadata": {},
   "outputs": [
    {
     "data": {
      "text/plain": [
       "-771.9201454772459"
      ]
     },
     "execution_count": 133,
     "metadata": {},
     "output_type": "execute_result"
    }
   ],
   "source": [
    "arr2.mean()"
   ]
  },
  {
   "cell_type": "code",
   "execution_count": 134,
   "metadata": {},
   "outputs": [
    {
     "data": {
      "text/plain": [
       "-672.9753868254722"
      ]
     },
     "execution_count": 134,
     "metadata": {},
     "output_type": "execute_result"
    }
   ],
   "source": [
    "st.median(arr2)"
   ]
  },
  {
   "cell_type": "markdown",
   "metadata": {},
   "source": [
    "As you can see here, the mean overstates the central tendency of the dataset by quite a bit!  So this tells us when our assumptions are violated we will need to make use of descriptive statistics which are robust to our assumptions needing to be relaxed\n",
    "\n",
    "The major reason that the arithemtic mean overstates the average in this case is because of how it treats large values.  Recall the formula for the arithmetic mean:\n",
    "\n",
    "$$ 1/N \\sum_{i=0}^{i=N} X[i] $$\n",
    "\n",
    "Where X is a list of numbers.\n",
    "\n",
    "Because the sum treats all values equally, if you have one large number the average can shift by a lot.  \n",
    "\n",
    "The way that robust descriptive statistics like the median get around this is by looking at the rank of the data.  How this works:\n",
    "\n",
    "First the data is sorted into ascending order and then different sorted elements are used as alternative measures for centrality and spread.  While not perfectly robust, they do well with a lot of different distributions that are approximately normal but exhibiting some non-normal tendencies either by a non zero skew or a non zero kurtosis."
   ]
  },
  {
   "cell_type": "code",
   "execution_count": 142,
   "metadata": {},
   "outputs": [
    {
     "name": "stdout",
     "output_type": "stream",
     "text": [
      "Median 673.6524771212421\n",
      "Interquartile Range 840.351319347348\n",
      "Mean 775.0773690359506\n",
      "Standard Deviation 633.2153887790821\n"
     ]
    }
   ],
   "source": [
    "def interquartile_range(arr):\n",
    "    q1 = np.percentile(arr, 25)\n",
    "    q3 = np.percentile(arr, 75)\n",
    "    return q3 - q1\n",
    "\n",
    "print(\"Median\", np.percentile(arr, 50))\n",
    "print(\"Interquartile Range\", interquartile_range(arr))\n",
    "print(\"Mean\", arr.mean())\n",
    "print(\"Standard Deviation\", arr.std())"
   ]
  },
  {
   "cell_type": "markdown",
   "metadata": {},
   "source": [
    "As you can see, the above robust statistics capture the same information - the center and the spread of the distribution, except because these are rank order statistics, they won't capture any information from the outliers.  This is because they only look at sorted order, these statistics are unaware of bias via outliers.\n",
    "\n",
    "Another important robust descriptive statistic is the [trimean](https://en.wikipedia.org/wiki/Trimean)."
   ]
  },
  {
   "cell_type": "code",
   "execution_count": 144,
   "metadata": {},
   "outputs": [
    {
     "name": "stdout",
     "output_type": "stream",
     "text": [
      "Trimean 701.7110944368526\n"
     ]
    }
   ],
   "source": [
    "def trimean(arr):\n",
    "    q1 = np.percentile(arr, 25)\n",
    "    q3 = np.percentile(arr, 75)\n",
    "    median = np.percentile(arr, 50)\n",
    "    return (q1 + 2*median + q3)/4\n",
    "\n",
    "print(\"Trimean\", trimean(arr))"
   ]
  },
  {
   "cell_type": "markdown",
   "metadata": {},
   "source": [
    "\"An advantage of the trimean as a measure of the center (of a distribution) is that it combines the median's emphasis on center values with the midhinge's attention to the extremes.\"\n",
    "\n",
    "— Herbert F. Weisberg, Central Tendency and Variability\n",
    "\n",
    "Before we leave our discussion of central tendency, it is possible that our data will not comfortably conform to one central tendency, it may be the case that multiple central tendencies are present, for this we will introduce the k means algorithm"
   ]
  },
  {
   "cell_type": "code",
   "execution_count": 168,
   "metadata": {},
   "outputs": [
    {
     "data": {
      "text/plain": [
       "array([[ 99.82624339],\n",
       "       [799.60974984]])"
      ]
     },
     "execution_count": 168,
     "metadata": {},
     "output_type": "execute_result"
    }
   ],
   "source": [
    "from sklearn.cluster import KMeans\n",
    "\n",
    "arr1 = np.random.normal(100, 50, size=10000)\n",
    "arr2 = np.random.normal(800, 50, size=10000)\n",
    "multi_center_dist = np.concatenate([arr1, arr2])\n",
    "\n",
    "means = KMeans(n_clusters=2, \n",
    "               random_state=0, \n",
    "               max_iter=1000,\n",
    "               n_init=100,\n",
    "               tol=0.00001,\n",
    "               algorithm=\"full\").fit(multi_center_dist.reshape(-1, 1))\n",
    "means.cluster_centers_"
   ]
  },
  {
   "cell_type": "code",
   "execution_count": 169,
   "metadata": {},
   "outputs": [
    {
     "data": {
      "image/png": "[encoded data removed]",
      "text/plain": [
       "<Figure size 432x288 with 1 Axes>"
      ]
     },
     "metadata": {
      "needs_background": "light"
     },
     "output_type": "display_data"
    }
   ],
   "source": [
    "plt.hist(multi_center_dist, bins=100)\n",
    "plt.show()"
   ]
  },
  {
   "cell_type": "code",
   "execution_count": 176,
   "metadata": {},
   "outputs": [
    {
     "data": {
      "text/plain": [
       "array([[163.9252768 ],\n",
       "       [835.22386134]])"
      ]
     },
     "execution_count": 176,
     "metadata": {},
     "output_type": "execute_result"
    }
   ],
   "source": [
    "from sklearn.cluster import KMeans\n",
    "\n",
    "arr1 = skewnorm.rvs(-2, loc=200, scale=50, size=1000)\n",
    "arr2 = skewnorm.rvs(2, loc=800, scale=50, size=1000)\n",
    "multi_center_dist = np.concatenate([arr1, arr2])\n",
    "\n",
    "means = KMeans(n_clusters=2, \n",
    "               random_state=0, \n",
    "               max_iter=1000,\n",
    "               n_init=100,\n",
    "               tol=0.00001,\n",
    "               algorithm=\"full\").fit(multi_center_dist.reshape(-1, 1))\n",
    "means.cluster_centers_"
   ]
  },
  {
   "cell_type": "code",
   "execution_count": 177,
   "metadata": {},
   "outputs": [
    {
     "data": {
      "image/png": "[encoded data removed]",
      "text/plain": [
       "<Figure size 432x288 with 1 Axes>"
      ]
     },
     "metadata": {
      "needs_background": "light"
     },
     "output_type": "display_data"
    }
   ],
   "source": [
    "plt.hist(multi_center_dist, bins=100)\n",
    "plt.show()"
   ]
  },
  {
   "cell_type": "markdown",
   "metadata": {},
   "source": [
    "As you can see, the K-Means algorithm captures both of the centers of our distribution.  Additionally, KMeans can generalize to $R^{n}$ space, meaning we can capture a sense of a higher dimensional centrality directly, rather than looking at the marginal centrality of different aspects of our dataset. "
   ]
  },
  {
   "cell_type": "code",
   "execution_count": null,
   "metadata": {},
   "outputs": [],
   "source": []
  }
 ],
 "metadata": {
  "kernelspec": {
   "display_name": "Python 3",
   "language": "python",
   "name": "python3"
  },
  "language_info": {
   "codemirror_mode": {
    "name": "ipython",
    "version": 3
   },
   "file_extension": ".py",
   "mimetype": "text/x-python",
   "name": "python",
   "nbconvert_exporter": "python",
   "pygments_lexer": "ipython3",
   "version": "3.7.1"
  }
 },
 "nbformat": 4,
 "nbformat_minor": 2
}
